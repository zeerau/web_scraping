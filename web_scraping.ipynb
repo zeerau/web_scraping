{
 "cells": [
  {
   "cell_type": "code",
   "execution_count": 1,
   "metadata": {
    "id": "orWFr1T6Ev3i"
   },
   "outputs": [],
   "source": [
    "import requests\n",
    "from bs4 import BeautifulSoup"
   ]
  },
  {
   "cell_type": "code",
   "execution_count": 2,
   "metadata": {
    "colab": {
     "base_uri": "https://localhost:8080/"
    },
    "id": "I4D8qUa_GNpO",
    "outputId": "ba7c59c2-fab9-4aec-fccd-a0625261c5a4"
   },
   "outputs": [
    {
     "data": {
      "text/plain": [
       "<Response [200]>"
      ]
     },
     "execution_count": 2,
     "metadata": {},
     "output_type": "execute_result"
    }
   ],
   "source": [
    "url = 'https://en.wikipedia.org/wiki/Malaysia'\n",
    "\n",
    "response = requests.get(url)\n",
    "response"
   ]
  },
  {
   "cell_type": "code",
   "execution_count": 15,
   "metadata": {
    "colab": {
     "base_uri": "https://localhost:8080/"
    },
    "id": "lguyw2cnGW6n",
    "outputId": "475b545f-2d7f-4f44-d19d-a5254a7f05b5"
   },
   "outputs": [
    {
     "name": "stdout",
     "output_type": "stream",
     "text": [
      "html\n",
      "\n",
      "\n"
     ]
    }
   ],
   "source": [
    "soup = BeautifulSoup(response.text, 'html.parser')\n",
    "children = list(soup.children)\n",
    "first_ten_children = children[:2]\n",
    "\n",
    "for child in first_ten_children:\n",
    "    print(child)"
   ]
  },
  {
   "cell_type": "code",
   "execution_count": 4,
   "metadata": {
    "colab": {
     "base_uri": "https://localhost:8080/",
     "height": 35
    },
    "id": "0NLqWVRGVAvI",
    "outputId": "25929567-a9ac-4cae-b1f2-48e38d117bf4"
   },
   "outputs": [
    {
     "data": {
      "application/vnd.google.colaboratory.intrinsic+json": {
       "type": "string"
      },
      "text/plain": [
       "'Malaysia - Wikipedia'"
      ]
     },
     "execution_count": 4,
     "metadata": {},
     "output_type": "execute_result"
    }
   ],
   "source": [
    "title = soup.find('title').text\n",
    "title"
   ]
  },
  {
   "cell_type": "code",
   "execution_count": 8,
   "metadata": {
    "colab": {
     "base_uri": "https://localhost:8080/"
    },
    "id": "TVPiwOsoVZ1-",
    "outputId": "51c4d180-a94e-4b7d-ca17-6f243a100898"
   },
   "outputs": [
    {
     "name": "stdout",
     "output_type": "stream",
     "text": [
      "70.5% Bumiputera\n",
      "57.3% Malay\n",
      "13.2% indigenous groups of Sabah, Sarawak, Orang Asli and other\n",
      "57.3% Malay\n",
      "13.2% indigenous groups of Sabah, Sarawak, Orang Asli and other\n",
      "22.9% Chinese\n",
      "6.6% Indian\n"
     ]
    }
   ],
   "source": [
    "ethnic_groups = soup.find('div',class_='treeview').find_all('li')\n",
    "for ethnic in ethnic_groups:\n",
    "    print(ethnic.text)\n"
   ]
  },
  {
   "cell_type": "code",
   "execution_count": 10,
   "metadata": {
    "colab": {
     "base_uri": "https://localhost:8080/"
    },
    "id": "VfDh1kNQXduG",
    "outputId": "24299383-757e-4274-b0ce-f2a691fb9169"
   },
   "outputs": [
    {
     "name": "stdout",
     "output_type": "stream",
     "text": [
      "Administrative centerPutrajaya[fn 2]2°56′N 101°42′E﻿ / ﻿2.933°N 101.700°E﻿ / 2.933; 101.700\n",
      "\n",
      "• Yang di-Pertuan Agong (King) Ibrahim Iskandar\n",
      "• Prime Minister Anwar Ibrahim\n",
      "• President of the Dewan Negara Awang Bemee Awang Ali Basah\n",
      "• Upper houseDewan Negara (Senate)\n",
      "\n",
      "• Federation of Malaya 31 August 1957[7]\n",
      "• Sarawak self-governance 22 July 1963\n",
      "• North Borneo self-governance 31 August 1963[8]\n",
      "• Proclamation of Malaysia 16 September 1963\n",
      "• Total330,803[9][10] km2 (127,724 sq mi) (67th)\n",
      "• 2024 estimate34,564,810[11] (43rd)\n",
      "• 2020 census32,447,385[12]\n",
      "• Total $1.306 trillion[13] (30th)\n",
      "• Total $445.519 billion[13] (36th)\n"
     ]
    }
   ],
   "source": [
    "colonise_by_after_england = soup.find_all('tr',class_='mergedrow')\n",
    "for colony in colonise_by_after_england:\n",
    "    print(colony.text)"
   ]
  },
  {
   "cell_type": "code",
   "execution_count": null,
   "metadata": {
    "id": "4iVVbPf_ZVeA"
   },
   "outputs": [],
   "source": []
  }
 ],
 "metadata": {
  "colab": {
   "authorship_tag": "ABX9TyPSgO8ISFnIbCi6EEoDNJaL",
   "include_colab_link": true,
   "provenance": []
  },
  "kernelspec": {
   "display_name": "Python 3",
   "name": "python3"
  },
  "language_info": {
   "name": "python"
  }
 },
 "nbformat": 4,
 "nbformat_minor": 0
}
